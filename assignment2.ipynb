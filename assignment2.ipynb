{
 "cells": [
  {
   "cell_type": "code",
   "execution_count": null,
   "id": "5f4f9de9-a274-41f0-b252-d7c91d8e741b",
   "metadata": {},
   "outputs": [],
   "source": [
    "# Q1. Write a program to calculate the electricity bill\n",
    "# using only if statement? (accept number of unit from user)\n",
    "# according to the following criteria:\n",
    "\n",
    "# Unit Price\n",
    "# First 100 units no charge\n",
    "# Next 100 units Rs 5 per unit\n",
    "# After 200 units Rs 10 per unit\n",
    "# (For example, if input unit is 350 than total bill amount is Rs2000). Lets explain...\n",
    "# For first 100 no charges\n",
    "# Now you have 250 unit remaining\n",
    "# 100-200 you need to pay – 100*5 = 500\n",
    "# Now 200-100 you need to pay 150*10 = 1500\n",
    "# Total = 500+1500 = 2000"
   ]
  },
  {
   "cell_type": "code",
   "execution_count": 85,
   "id": "017bc849-1265-4804-959d-927499af9279",
   "metadata": {},
   "outputs": [
    {
     "name": "stdin",
     "output_type": "stream",
     "text": [
      "Enter the total unit used :  190\n"
     ]
    },
    {
     "name": "stdout",
     "output_type": "stream",
     "text": [
      "450 is your total charge\n"
     ]
    }
   ],
   "source": [
    "unit_used = int(input(\"Enter the total unit used : \"))\n",
    "\n",
    "if unit_used <=100:\n",
    "    print(\"no charge\")\n",
    "elif (unit_used >100 and unit_used <=200) :\n",
    "    print((unit_used-100)*5 , \"is your total charge\")\n",
    "else :\n",
    "    print((100*5)+(unit_used-200)*10 , \"is your total charge\")\n",
    "    \n",
    "    \n",
    "    \n",
    "\n",
    "\n"
   ]
  },
  {
   "cell_type": "code",
   "execution_count": null,
   "id": "9f3ad358-afc1-441d-8027-9622312938c6",
   "metadata": {},
   "outputs": [],
   "source": []
  },
  {
   "cell_type": "code",
   "execution_count": 101,
   "id": "42b302d3-6940-4ed4-ac32-e086874eddc4",
   "metadata": {},
   "outputs": [
    {
     "data": {
      "text/plain": [
       "'Q2. Write a program to accept percentage from the user and display\\nthe grade according to the following criteria:\\n\\n Marks Grade\\n> 90 A\\n> 80 and <= 90 B\\n>= 60 and <= 80 C\\nbelow 60 D '"
      ]
     },
     "execution_count": 101,
     "metadata": {},
     "output_type": "execute_result"
    }
   ],
   "source": [
    "\"\"\"Q2. Write a program to accept percentage from the user and display\n",
    "the grade according to the following criteria:\n",
    "\n",
    " Marks Grade\n",
    "> 90 A\n",
    "> 80 and <= 90 B\n",
    ">= 60 and <= 80 C\n",
    "below 60 D \"\"\""
   ]
  },
  {
   "cell_type": "code",
   "execution_count": 99,
   "id": "c0f2b592-cb2c-44f4-bb06-2855c497cd74",
   "metadata": {},
   "outputs": [
    {
     "name": "stdin",
     "output_type": "stream",
     "text": [
      "Enter the marks : 91\n"
     ]
    },
    {
     "name": "stdout",
     "output_type": "stream",
     "text": [
      "Grade A\n"
     ]
    }
   ],
   "source": [
    "Marks_obtained =int(input(\"Enter the marks :\"))\n",
    "if Marks_obtained >90 :\n",
    "    print(\"Grade A\")\n",
    "elif Marks_obtained > 80 and Marks_obtained<= 90 :\n",
    "    print(\"Grade B\")\n",
    "elif Marks_obtained >= 60 and Marks_obtained <= 80 :\n",
    "    print(\"Grade c\")\n",
    "else:\n",
    "    print(\"Grade D\")\n"
   ]
  },
  {
   "cell_type": "code",
   "execution_count": 144,
   "id": "0e8cce55-0ac0-453d-9779-ce871cc491d0",
   "metadata": {},
   "outputs": [
    {
     "name": "stdin",
     "output_type": "stream",
     "text": [
      "enter your age of 1st: 11\n",
      "enter your age of 2nd: 12\n",
      "enter your age of 3rd: 14\n",
      "enter your age of 4th: 5\n"
     ]
    },
    {
     "name": "stdout",
     "output_type": "stream",
     "text": [
      "4th person is younger\n"
     ]
    }
   ],
   "source": [
    "#Q3. Accept the age of 4 people and display the youngest one?\n",
    "\n",
    "age1 = int(input(\"enter your age of 1st:\"))\n",
    "age2 = int(input(\"enter your age of 2nd:\"))\n",
    "age3 = int(input(\"enter your age of 3rd:\"))\n",
    "age4 = int(input(\"enter your age of 4th:\"))\n",
    "\n",
    "if age1 <= age2 and age1 <= age3 and age1 <= age4:\n",
    "            print(\"1st person is younger\")\n",
    "elif age2 <=age1 and age2 <=age3 and age2 <=age4:\n",
    "            print(\"2nd person is younger\")\n",
    "elif age3 <= age1 and age3 <= age2 and age3 <= age4:\n",
    "            print(\"3rd person is younger\")\n",
    "else:\n",
    "    print(\"4th person is younger\")"
   ]
  },
  {
   "cell_type": "code",
   "execution_count": null,
   "id": "9962f296-cefa-4726-9562-691ab1a15f3b",
   "metadata": {},
   "outputs": [],
   "source": []
  },
  {
   "cell_type": "code",
   "execution_count": null,
   "id": "10550df6-1705-4040-baa7-c50f909ef7bc",
   "metadata": {},
   "outputs": [],
   "source": [
    "\"\"\" Q4.A company decided to give bonus to employee\n",
    "according to following criteria:\n",
    "\n",
    "Time period of Service Bonus\n",
    "\n",
    "More than 10 years 10%\n",
    "\n",
    ">=6 and <=10 8%\n",
    "\n",
    "Less than 6 years 5%\n",
    "\n",
    "Ask user for their salary and years of service and print the\n",
    "net bonus amount?\"\"\""
   ]
  },
  {
   "cell_type": "code",
   "execution_count": 160,
   "id": "468aaf6a-aae2-4c46-8d10-adcbb25b6210",
   "metadata": {},
   "outputs": [
    {
     "name": "stdin",
     "output_type": "stream",
     "text": [
      "Enter your salary :  1000\n",
      "Enter year of service :  5\n"
     ]
    },
    {
     "name": "stdout",
     "output_type": "stream",
     "text": [
      "Your bonus = 50.0\n"
     ]
    }
   ],
   "source": [
    "Salary = int(input(\"Enter your salary : \"))\n",
    "Year_of_experiance =int(input(\"Enter year of service : \"))\n",
    "if Year_of_experiance > 10 :\n",
    "    print((\"Your bonus =\"),(10/100)*Salary)\n",
    "elif Year_of_experiance >= 6 and Year_of_experiance <=10 :\n",
    "    print((\"Your bonus =\"),(8/100)*Salary)\n",
    "else :\n",
    "    print((\"Your bonus =\"),(5/100)*Salary)\n",
    "    "
   ]
  },
  {
   "cell_type": "code",
   "execution_count": null,
   "id": "54abf71d-b0c9-4e77-8595-5614eafcd615",
   "metadata": {},
   "outputs": [],
   "source": []
  },
  {
   "cell_type": "code",
   "execution_count": null,
   "id": "c3abf588-94d5-44e0-a90d-e7ac05bac30d",
   "metadata": {},
   "outputs": [],
   "source": [
    "\"\"\"Q5. Accept three numbers from the user and\n",
    "display the second largest number?\"\"\""
   ]
  },
  {
   "cell_type": "code",
   "execution_count": 162,
   "id": "037035f6-ea56-487f-b3fc-b3b1b855ae53",
   "metadata": {},
   "outputs": [
    {
     "name": "stdin",
     "output_type": "stream",
     "text": [
      "Enter 1st no : 23\n",
      "Enter 2nd no : 24\n",
      "Enter 3rd no : 25\n"
     ]
    },
    {
     "name": "stdout",
     "output_type": "stream",
     "text": [
      "number_2 is second largest number\n"
     ]
    }
   ],
   "source": [
    "number_1 = int(input(\"Enter 1st no :\"))\n",
    "number_2 = int(input(\"Enter 2nd no :\"))\n",
    "number_3 = int(input(\"Enter 3rd no :\"))\n",
    "\n",
    "if (number_1 > number_2 and number_1 < number_3) or (number_1 > number_3 and number_1 < number_2):\n",
    "    print(\"number_1 is second largest number\")\n",
    "elif (number_2 > number_1 and number_2 < number_3) or (number_2 > number_3 and number_2 < number_1):\n",
    "    print(\"number_2 is second largest number\")\n",
    "else:\n",
    "    print(\"number_3 is second largest number\")\n",
    "    "
   ]
  },
  {
   "cell_type": "code",
   "execution_count": null,
   "id": "833b41e2-ec2e-4d17-88fb-a08c15e44650",
   "metadata": {},
   "outputs": [],
   "source": [
    "\"\"\"Q6. Accept the marked price from the user and calculate\n",
    "the Net amount as (Marked Price – Discount) to pay\n",
    "according to following criteria:\n",
    "\n",
    "Marked Price Discount\n",
    ">10000 20%\n",
    ">7000 and <=10000 15%\n",
    "<=7000 10%\"\"\""
   ]
  },
  {
   "cell_type": "code",
   "execution_count": 172,
   "id": "08539320-08df-43b9-87d1-962534a493f3",
   "metadata": {},
   "outputs": [
    {
     "name": "stdin",
     "output_type": "stream",
     "text": [
      "Enter the MRP :  7000\n"
     ]
    },
    {
     "name": "stdout",
     "output_type": "stream",
     "text": [
      "Net amount = 6300.0\n"
     ]
    }
   ],
   "source": [
    "MRP = int(input(\"Enter the MRP : \"))\n",
    "if MRP > 10000 :\n",
    "    discount = (20/100)*MRP\n",
    "    print((\"Net amount =\"), MRP-discount)\n",
    "elif MRP > 7000 and MRP <=10000 :\n",
    "    discount = (15/100)*MRP\n",
    "    print((\"Net amount =\"), MRP-discount)\n",
    "else:\n",
    "    print((\"Net amount =\"), MRP-((10/100)*MRP))\n",
    "    "
   ]
  },
  {
   "cell_type": "code",
   "execution_count": null,
   "id": "500793c3-98cb-43a0-b453-2336ce6ba4fb",
   "metadata": {},
   "outputs": [],
   "source": []
  },
  {
   "cell_type": "code",
   "execution_count": null,
   "id": "3a6043ac-de7a-4ebc-9102-f56a4fef026c",
   "metadata": {},
   "outputs": [],
   "source": [
    "\"\"\"Q7. Accept the marks of English, Math and Science,\n",
    "Social Studies Subject and display the stream allotted\n",
    "according to following:\n",
    "\n",
    "All Subjects more than 80 marks — Science Stream\n",
    "\n",
    "English >80 and Math, Science above 50 — Commerce Stream\n",
    "\n",
    "English > 80 and social studies > 80 — Humanities\"\"\""
   ]
  },
  {
   "cell_type": "code",
   "execution_count": 19,
   "id": "5431d2c9-0e94-4c38-b5e7-5072df661151",
   "metadata": {},
   "outputs": [
    {
     "name": "stdin",
     "output_type": "stream",
     "text": [
      "Marks In English :  87\n",
      "Marks In Math_Science :  78\n",
      "Marks In Social Studies :  80\n"
     ]
    },
    {
     "name": "stdout",
     "output_type": "stream",
     "text": [
      "Humanities Stream alloted\n"
     ]
    }
   ],
   "source": [
    "English = int(input(\"Marks In English : \"))\n",
    "Math_Science = int(input(\"Marks In Math_Science : \"))\n",
    "Social_Studies = int(input(\"Marks In Social Studies : \"))\n",
    "\n",
    "if English>=80 and Math_Science >=80 and Social_Studies >=80 :\n",
    "    print (\"science stream attoted\")\n",
    "elif English >= 80 and Math_Science >=50 and Social_Studies <80:\n",
    "\n",
    "    print(\"commerce Stream alloted\")\n",
    "else:\n",
    "    print(\"Humanities Stream alloted\")\n",
    "    \n",
    "    "
   ]
  },
  {
   "cell_type": "code",
   "execution_count": null,
   "id": "6e6791c2-df5c-42ce-ab24-27758590461d",
   "metadata": {},
   "outputs": [],
   "source": [
    "\"\"\"Q8. Write a program to display \"Hello\" if a number entered\n",
    "by user is a multiple of five, otherwise print \"Bye\"?\"\"\""
   ]
  },
  {
   "cell_type": "code",
   "execution_count": 31,
   "id": "70f6d891-14f4-4b20-a056-b7cbd650e7a4",
   "metadata": {},
   "outputs": [
    {
     "name": "stdin",
     "output_type": "stream",
     "text": [
      "Enter a number :  6\n"
     ]
    },
    {
     "name": "stdout",
     "output_type": "stream",
     "text": [
      "Bye\n"
     ]
    }
   ],
   "source": [
    "Number = int(input(\"Enter a number : \"))\n",
    "\n",
    "if Number%5 ==0 :\n",
    "    print(\"Hellow\")\n",
    "else:\n",
    "    print(\"Bye\")"
   ]
  },
  {
   "cell_type": "code",
   "execution_count": null,
   "id": "d181d962-8197-46a3-a56b-6b34cc3e3fce",
   "metadata": {},
   "outputs": [],
   "source": [
    "\"\"\"Q9. Write a program to check whether the last digit of a number\n",
    "(entered by user) is divisible by 3 or not?\"\"\""
   ]
  },
  {
   "cell_type": "code",
   "execution_count": 47,
   "id": "ec895aa4-d871-41c0-bfc0-27d020747bfb",
   "metadata": {},
   "outputs": [
    {
     "name": "stdin",
     "output_type": "stream",
     "text": [
      "Enter a number :  98\n"
     ]
    },
    {
     "name": "stdout",
     "output_type": "stream",
     "text": [
      "number is not divisible by 3\n"
     ]
    }
   ],
   "source": [
    "Number = input(\"Enter a number : \")\n",
    "last_digit =int(Number[-1])\n",
    "\n",
    "if last_digit % 3 ==0 :\n",
    "    print(\"number is divisible by 3\")\n",
    "else:\n",
    "    print(\"number is not divisible by 3\")"
   ]
  },
  {
   "cell_type": "code",
   "execution_count": null,
   "id": "690ccf68-ef73-4ff1-9525-03ba89c2244e",
   "metadata": {},
   "outputs": [],
   "source": [
    "\"\"\"Q10. Write a program to check whether a number entered\n",
    "is three-digit number or not?\"\"\""
   ]
  },
  {
   "cell_type": "code",
   "execution_count": 57,
   "id": "41833f98-f3f5-41b5-8e41-008203f81ac2",
   "metadata": {},
   "outputs": [
    {
     "name": "stdin",
     "output_type": "stream",
     "text": [
      "Enter a number:  779\n"
     ]
    },
    {
     "name": "stdout",
     "output_type": "stream",
     "text": [
      "779 is a three-digit number.\n"
     ]
    }
   ],
   "source": [
    "number = int(input(\"Enter a number: \"))\n",
    "\n",
    "if 100 <= abs(number) <= 999:\n",
    "    print(f\"{number} is a three-digit number.\")\n",
    "else:\n",
    "    print(f\"{number} is NOT a three-digit number.\")\n"
   ]
  },
  {
   "cell_type": "code",
   "execution_count": null,
   "id": "dbfd4c62-3245-40be-85c9-edd3e1fa666a",
   "metadata": {},
   "outputs": [],
   "source": []
  }
 ],
 "metadata": {
  "kernelspec": {
   "display_name": "Python [conda env:base] *",
   "language": "python",
   "name": "conda-base-py"
  },
  "language_info": {
   "codemirror_mode": {
    "name": "ipython",
    "version": 3
   },
   "file_extension": ".py",
   "mimetype": "text/x-python",
   "name": "python",
   "nbconvert_exporter": "python",
   "pygments_lexer": "ipython3",
   "version": "3.12.7"
  }
 },
 "nbformat": 4,
 "nbformat_minor": 5
}
